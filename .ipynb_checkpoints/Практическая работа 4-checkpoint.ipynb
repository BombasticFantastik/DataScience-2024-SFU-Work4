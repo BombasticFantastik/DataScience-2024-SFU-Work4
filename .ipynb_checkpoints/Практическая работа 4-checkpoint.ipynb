{
 "cells": [
  {
   "cell_type": "markdown",
   "id": "50cd6dc2-2d3c-443f-b8b5-b850bbad36c8",
   "metadata": {},
   "source": [
    "# Практическая работа 4"
   ]
  },
  {
   "cell_type": "markdown",
   "id": "753d08ed-91b8-411a-8655-677b5006ed21",
   "metadata": {},
   "source": [
    "## Задание №1"
   ]
  },
  {
   "cell_type": "code",
   "execution_count": 1,
   "id": "4426bf2e-085e-4738-8e4d-5c3761290cbb",
   "metadata": {},
   "outputs": [],
   "source": [
    "import numpy as np\n",
    "from scipy.stats import skew,kurtosis"
   ]
  },
  {
   "cell_type": "code",
   "execution_count": 9,
   "id": "20454140-426d-4423-b3c5-aaa4fc6972db",
   "metadata": {},
   "outputs": [],
   "source": [
    "norm_data=np.random.normal(size=1000)\n",
    "exp_data=np.random.exponential(size=1000)\n",
    "un_data=np.random.uniform(size=1000)\n",
    "geom_data=np.random.geometric(0.5,size=1000)"
   ]
  },
  {
   "cell_type": "code",
   "execution_count": 12,
   "id": "0b47ac32-b411-47e2-b57d-ae19698b159c",
   "metadata": {},
   "outputs": [
    {
     "ename": "SyntaxError",
     "evalue": "invalid syntax (3829065134.py, line 7)",
     "output_type": "error",
     "traceback": [
      "\u001b[0;36m  Cell \u001b[0;32mIn[12], line 7\u001b[0;36m\u001b[0m\n\u001b[0;31m    data_quart=data.\u001b[0m\n\u001b[0m                    ^\u001b[0m\n\u001b[0;31mSyntaxError\u001b[0m\u001b[0;31m:\u001b[0m invalid syntax\n"
     ]
    }
   ],
   "source": [
    "def get_stats(data: numpy.ndarray):\n",
    "    data_min=data.min()\n",
    "    data_max=data.max()\n",
    "    data_mean=data.mean()\n",
    "    data_var=data.var()\n",
    "    data_std=data.std()\n",
    "    data_quart=np.percentile(data,25)\n",
    "    data_sevfiv=np.percentile(data,75)\n",
    "    datastep=data_max-data_min\n",
    "    data_median=data.median()\n",
    "    \n",
    "    \n"
   ]
  },
  {
   "cell_type": "code",
   "execution_count": 11,
   "id": "48bc2a44-658f-45cc-8274-1150597b5c42",
   "metadata": {},
   "outputs": [
    {
     "data": {
      "text/plain": [
       "numpy.ndarray"
      ]
     },
     "execution_count": 11,
     "metadata": {},
     "output_type": "execute_result"
    }
   ],
   "source": [
    "type(norm_data)"
   ]
  },
  {
   "cell_type": "code",
   "execution_count": null,
   "id": "6486917a-6283-4bbb-907d-ce9b3ff2227f",
   "metadata": {},
   "outputs": [],
   "source": []
  }
 ],
 "metadata": {
  "kernelspec": {
   "display_name": "Python 3 (ipykernel)",
   "language": "python",
   "name": "python3"
  },
  "language_info": {
   "codemirror_mode": {
    "name": "ipython",
    "version": 3
   },
   "file_extension": ".py",
   "mimetype": "text/x-python",
   "name": "python",
   "nbconvert_exporter": "python",
   "pygments_lexer": "ipython3",
   "version": "3.13.1"
  }
 },
 "nbformat": 4,
 "nbformat_minor": 5
}
